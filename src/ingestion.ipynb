{
 "cells": [
  {
   "cell_type": "markdown",
   "id": "661b6000",
   "metadata": {},
   "source": [
    "# Library"
   ]
  },
  {
   "cell_type": "code",
   "execution_count": 5,
   "id": "261e5b79",
   "metadata": {},
   "outputs": [],
   "source": [
    "import arxiv, os, requests"
   ]
  },
  {
   "cell_type": "code",
   "execution_count": 6,
   "id": "5f01fd05",
   "metadata": {},
   "outputs": [],
   "source": [
    "def download_pdfs(pdf_links, download_folder=\"documents\", filename = \"\"):\n",
    "    # Create the download folder if it doesn't already exist.\n",
    "    if not os.path.exists(download_folder):\n",
    "        os.makedirs(download_folder)\n",
    "        print(f\"Created directory: {download_folder}\")\n",
    "\n",
    "    url = pdf_links\n",
    "    try:\n",
    "        response = requests.get(url, stream=True)\n",
    "        # Raise an exception for bad status codes (4xx or 5xx)\n",
    "        response.raise_for_status()\n",
    "\n",
    "        # Extract the filename from the URL\n",
    "        # filename = os.path.join(download_folder, url.split(\"/\")[-1])\n",
    "        filename = os.path.join(download_folder, filename+'.pdf')\n",
    "\n",
    "        # Save the content to a local file\n",
    "        with open(filename, 'wb') as f:\n",
    "            for chunk in response.iter_content(chunk_size=8192):\n",
    "                f.write(chunk)\n",
    "        print(f\"Successfully downloaded: {filename}\")\n",
    "\n",
    "    except requests.exceptions.RequestException as e:\n",
    "        print(f\"Error downloading {url}: {e}\")\n",
    "    except Exception as e:\n",
    "        print(f\"An unexpected error occurred for {url}: {e}\")"
   ]
  },
  {
   "cell_type": "markdown",
   "id": "19440df7",
   "metadata": {},
   "source": [
    "# Arxiv finance retriver\n",
    "### arxiv q-fin finance topic\n",
    "- `q-fin.RM`    Risk Management\n",
    "- `q-fin.CP`    Computational Finance\n",
    "- `q-fin.ST`    Statistical Finance\n",
    "- `q-fin.TR`    Trading and Market Microstructure\n",
    "- `q-fin.EC`    Economics\n",
    "- `q-fin.GN`    General Finance\n",
    "- `q-fin.MF`\tMathematical Finance\n",
    "- `q-fin.PM`\tPortfolio Management\n",
    "- `q-fin.PR`\tPricing of Securities\n"
   ]
  },
  {
   "cell_type": "code",
   "execution_count": 7,
   "id": "922d4fae",
   "metadata": {},
   "outputs": [],
   "source": [
    "def arxiv_ingestion():\n",
    "    #API connect\n",
    "    client = arxiv.Client()\n",
    "    #search\n",
    "    search = arxiv.Search(\n",
    "        query=f\"cat:q-fin*\", #q-fin is finance topic\n",
    "        max_results=20,\n",
    "        sort_by=arxiv.SortCriterion.SubmittedDate #Date sort\n",
    "    )\n",
    "    results = client.results(search)\n",
    "    for result in client.results(search):\n",
    "        # print(f\"Title: {result.title}\")\n",
    "        # print(f\"   All Categories (Subqueries): {result.categories}\")\n",
    "        # print(f\"   PDF Link: {result.pdf_url}\")\n",
    "        for categorie in result.categories:\n",
    "            if('q-fin' not in categorie): continue\n",
    "            download_folder = f\"../data/{categorie}/\"\n",
    "            download_pdfs(pdf_links=result.pdf_url, download_folder=download_folder, filename=result.title.replace(\" \",\"\"))\n",
    "        print(\"-\" * 30)"
   ]
  },
  {
   "cell_type": "code",
   "execution_count": 8,
   "id": "dbad8b99",
   "metadata": {},
   "outputs": [
    {
     "name": "stdout",
     "output_type": "stream",
     "text": [
      "Successfully downloaded: ../data/q-fin.RM/DisasterRiskFinancingthroughTaxation:AFrameworkforRegionalParticipationinCollectiveRisk-Sharing.pdf\n",
      "------------------------------\n",
      "Successfully downloaded: ../data/q-fin.EC/TheTheoryofEconomicComplexity.pdf\n",
      "------------------------------\n",
      "Successfully downloaded: ../data/q-fin.EC/AnAI-poweredToolforCentralBankBusinessLiaisons:QuantitativeIndicatorsandOn-demandInsightsfromFirms.pdf\n",
      "------------------------------\n",
      "Successfully downloaded: ../data/q-fin.PR/Americanoptionsvaluationintime-dependentjump-diffusionmodelsviaintegralequationsandcharacteristicfunctions.pdf\n",
      "Successfully downloaded: ../data/q-fin.CP/Americanoptionsvaluationintime-dependentjump-diffusionmodelsviaintegralequationsandcharacteristicfunctions.pdf\n",
      "Successfully downloaded: ../data/q-fin.MF/Americanoptionsvaluationintime-dependentjump-diffusionmodelsviaintegralequationsandcharacteristicfunctions.pdf\n",
      "------------------------------\n",
      "Successfully downloaded: ../data/q-fin.TR/CausalInterventionsinBondMulti-Dealer-to-ClientPlatforms.pdf\n",
      "------------------------------\n",
      "Successfully downloaded: ../data/q-fin.ST/PredictingStockMarketCrashwithBayesianGeneralisedParetoRegression.pdf\n",
      "------------------------------\n",
      "Successfully downloaded: ../data/q-fin.PR/EmpiricalModelsoftheTimeEvolutionofSPXOptionPrices.pdf\n",
      "Successfully downloaded: ../data/q-fin.CP/EmpiricalModelsoftheTimeEvolutionofSPXOptionPrices.pdf\n",
      "------------------------------\n",
      "Successfully downloaded: ../data/q-fin.EC/SocialGroupBiasinAIFinance.pdf\n",
      "------------------------------\n",
      "Successfully downloaded: ../data/q-fin.EC/Anewequilibrium:COVID-19lockdownsandWFHpersistence.pdf\n",
      "------------------------------\n",
      "Successfully downloaded: ../data/q-fin.EC/OptimalRegulationandInvestmentIncentivesinFinancialNetworks.pdf\n",
      "------------------------------\n",
      "Successfully downloaded: ../data/q-fin.EC/SocialMediaCanReduceMisinformationWhenPublicScrutinyisHigh.pdf\n",
      "------------------------------\n",
      "Successfully downloaded: ../data/q-fin.EC/ArtificialIntelligence,LeanStartupMethod,andProductInnovations.pdf\n",
      "------------------------------\n",
      "Successfully downloaded: ../data/q-fin.MF/PricingundertheBenchmarkApproach.pdf\n",
      "Successfully downloaded: ../data/q-fin.GN/PricingundertheBenchmarkApproach.pdf\n",
      "------------------------------\n",
      "Successfully downloaded: ../data/q-fin.RM/OnDesignofRepresentativeDistributionallyRobustFormulationsforEvaluationofTailRiskMeasures.pdf\n",
      "------------------------------\n",
      "Successfully downloaded: ../data/q-fin.EC/AIistheStrategy:FromAgenticAItoAutonomousBusinessModelsontoStrategyintheAgeofAI.pdf\n",
      "------------------------------\n",
      "Successfully downloaded: ../data/q-fin.EC/LongCoalitionLeadstoShrink?TheRolesofTippingandTechnology-SharinginClimateClubs.pdf\n",
      "------------------------------\n",
      "Successfully downloaded: ../data/q-fin.EC/TheEconomicValueofDepth.pdf\n",
      "------------------------------\n",
      "Successfully downloaded: ../data/q-fin.RM/ConditionalGenerativeModelingforEnhancedCreditRiskManagementinSupplyChainFinance.pdf\n",
      "------------------------------\n",
      "Successfully downloaded: ../data/q-fin.EC/Howdoesonlineshoppingaffectofflinepricesensitivity?.pdf\n",
      "------------------------------\n",
      "Successfully downloaded: ../data/q-fin.EC/Identifyingeconomicnarrativesinlargetextcorpora--AnintegratedapproachusingLargeLanguageModels.pdf\n",
      "------------------------------\n"
     ]
    }
   ],
   "source": [
    "if __name__ == \"__main__\":\n",
    "    arxiv_ingestion()"
   ]
  }
 ],
 "metadata": {
  "kernelspec": {
   "display_name": "myenv",
   "language": "python",
   "name": "python3"
  },
  "language_info": {
   "codemirror_mode": {
    "name": "ipython",
    "version": 3
   },
   "file_extension": ".py",
   "mimetype": "text/x-python",
   "name": "python",
   "nbconvert_exporter": "python",
   "pygments_lexer": "ipython3",
   "version": "3.13.2"
  }
 },
 "nbformat": 4,
 "nbformat_minor": 5
}
