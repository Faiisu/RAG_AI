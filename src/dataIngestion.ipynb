{
 "cells": [
  {
   "cell_type": "code",
   "execution_count": 55,
   "id": "078f64b6",
   "metadata": {},
   "outputs": [],
   "source": [
    "from langchain_community.document_loaders import PyPDFLoader\n",
    "from langchain.text_splitter import RecursiveCharacterTextSplitter\n",
    "from langchain_community.vectorstores import Chroma\n",
    "from langchain_community.embeddings import HuggingFaceEmbeddings"
   ]
  },
  {
   "cell_type": "markdown",
   "id": "75277376",
   "metadata": {},
   "source": [
    "## PDF Loading"
   ]
  },
  {
   "cell_type": "code",
   "execution_count": 46,
   "id": "483329c0",
   "metadata": {},
   "outputs": [
    {
     "name": "stdout",
     "output_type": "stream",
     "text": [
      "This Docs has 28 pages\n"
     ]
    }
   ],
   "source": [
    "loader = PyPDFLoader(\"../data/pdf/test01.pdf\")\n",
    "docs = loader.load()\n",
    "print(f\"This Docs has {len(docs)} pages\")"
   ]
  },
  {
   "cell_type": "markdown",
   "id": "8ee970b9",
   "metadata": {},
   "source": [
    "## Chuck Spliting"
   ]
  },
  {
   "cell_type": "code",
   "execution_count": 47,
   "id": "b646743e",
   "metadata": {},
   "outputs": [
    {
     "name": "stdout",
     "output_type": "stream",
     "text": [
      "split document into 68 part\n"
     ]
    }
   ],
   "source": [
    "text_splitter = RecursiveCharacterTextSplitter(chunk_size = 1000, chunk_overlap=200)\n",
    "splits = text_splitter.split_documents(docs)\n",
    "print(f\"split document into {len(splits)} part\")\n",
    "for i in range(0,len(splits)):\n",
    "    splits[i] = str(splits[i])"
   ]
  },
  {
   "cell_type": "markdown",
   "id": "dcd7ce59",
   "metadata": {},
   "source": [
    "## Embedding & retriever"
   ]
  },
  {
   "cell_type": "code",
   "execution_count": null,
   "id": "03011b27",
   "metadata": {},
   "outputs": [],
   "source": [
    "# Embedding\n",
    "model_name = \"all-MiniLM-L6-v2\"\n",
    "model_kwargs = {\"device\": 'cpu'}\n",
    "encode_kwargs = {'normalize_embeddings': False}\n",
    "\n",
    "embeddings = HuggingFaceEmbeddings(\n",
    "    model_name = model_name,\n",
    "    model_kwargs=model_kwargs,\n",
    "    encode_kwargs=encode_kwargs\n",
    ")\n",
    "\n",
    "#retriever\n",
    "vector_store = Chroma.from_texts(\n",
    "    texts=splits,\n",
    "    embedding=embeddings,\n",
    "    persist_directory=\"../chroma_db_langchain\"\n",
    ")\n",
    "\n",
    "retriver = vector_store.as_retriever()"
   ]
  }
 ],
 "metadata": {
  "kernelspec": {
   "display_name": "myenv",
   "language": "python",
   "name": "python3"
  },
  "language_info": {
   "codemirror_mode": {
    "name": "ipython",
    "version": 3
   },
   "file_extension": ".py",
   "mimetype": "text/x-python",
   "name": "python",
   "nbconvert_exporter": "python",
   "pygments_lexer": "ipython3",
   "version": "3.13.1"
  }
 },
 "nbformat": 4,
 "nbformat_minor": 5
}
